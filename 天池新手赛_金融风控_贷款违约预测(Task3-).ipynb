{
 "cells": [
  {
   "cell_type": "markdown",
   "metadata": {},
   "source": [
    "# 赛题理解"
   ]
  },
  {
   "cell_type": "markdown",
   "metadata": {},
   "source": [
    "# EDA"
   ]
  },
  {
   "cell_type": "code",
   "execution_count": 1,
   "metadata": {
    "ExecuteTime": {
     "end_time": "2020-12-13T05:54:31.520803Z",
     "start_time": "2020-12-13T05:54:12.729011Z"
    }
   },
   "outputs": [],
   "source": [
    "import pandas as pd\n",
    "import numpy as np\n",
    "import matplotlib.pyplot as plt\n",
    "import seaborn as sns\n",
    "import datetime\n",
    "from tqdm import tqdm\n",
    "from sklearn.preprocessing import LabelEncoder\n",
    "from sklearn.feature_selection import SelectKBest\n",
    "from sklearn.feature_selection import chi2\n",
    "from sklearn.preprocessing import MinMaxScaler\n",
    "import xgboost as xgb\n",
    "import lightgbm as lgb\n",
    "from catboost import CatBoostRegressor\n",
    "import warnings\n",
    "from sklearn.model_selection import StratifiedKFold, KFold\n",
    "from sklearn.metrics import accuracy_score, f1_score, roc_auc_score, log_loss\n",
    "\n",
    "import category_encoders as ce\n",
    "warnings.filterwarnings('ignore')"
   ]
  },
  {
   "cell_type": "code",
   "execution_count": 2,
   "metadata": {
    "ExecuteTime": {
     "end_time": "2020-12-13T05:54:34.264729Z",
     "start_time": "2020-12-13T05:54:34.239391Z"
    }
   },
   "outputs": [],
   "source": [
    "# 解决现实不出中文的问题\n",
    "plt.rcParams['font.sans-serif']=['SimHei']\n",
    "plt.rcParams['axes.unicode_minus'] = False  #解决负数坐标显示问题\n",
    "plt.rcParams['figure.figsize'] = (16, 4)   # 设置图形大小\n",
    "plt.rcParams.update({\"font.size\":20})    #设置标题标注和字体大小 #此处必须添加此句代码方可改变标题字体大小\n",
    "# 调用matplotlib.pyplot的绘图函数时，或者生成一个figure画布的时候，可以直接在python console里面生成图像。\n",
    "%matplotlib inline  "
   ]
  },
  {
   "cell_type": "code",
   "execution_count": 3,
   "metadata": {
    "ExecuteTime": {
     "end_time": "2020-12-13T05:54:45.592478Z",
     "start_time": "2020-12-13T05:54:35.523538Z"
    }
   },
   "outputs": [],
   "source": [
    "train = pd.read_csv('train.csv')\n",
    "testA = pd.read_csv('testA.csv')"
   ]
  },
  {
   "cell_type": "code",
   "execution_count": 4,
   "metadata": {
    "ExecuteTime": {
     "end_time": "2020-12-13T05:54:57.554299Z",
     "start_time": "2020-12-13T05:54:46.691498Z"
    },
    "collapsed": true
   },
   "outputs": [
    {
     "name": "stdout",
     "output_type": "stream",
     "text": [
      "<class 'pandas.core.frame.DataFrame'>\n",
      "8000\n",
      "<class 'pandas.core.frame.DataFrame'>\n",
      "8000\n",
      "<class 'pandas.core.frame.DataFrame'>\n",
      "8000\n",
      "<class 'pandas.core.frame.DataFrame'>\n",
      "8000\n",
      "<class 'pandas.core.frame.DataFrame'>\n",
      "8000\n",
      "<class 'pandas.core.frame.DataFrame'>\n",
      "8000\n",
      "<class 'pandas.core.frame.DataFrame'>\n",
      "8000\n",
      "<class 'pandas.core.frame.DataFrame'>\n",
      "8000\n",
      "<class 'pandas.core.frame.DataFrame'>\n",
      "8000\n",
      "<class 'pandas.core.frame.DataFrame'>\n",
      "8000\n",
      "<class 'pandas.core.frame.DataFrame'>\n",
      "8000\n",
      "<class 'pandas.core.frame.DataFrame'>\n",
      "8000\n",
      "<class 'pandas.core.frame.DataFrame'>\n",
      "8000\n",
      "<class 'pandas.core.frame.DataFrame'>\n",
      "8000\n",
      "<class 'pandas.core.frame.DataFrame'>\n",
      "8000\n",
      "<class 'pandas.core.frame.DataFrame'>\n",
      "8000\n",
      "<class 'pandas.core.frame.DataFrame'>\n",
      "8000\n",
      "<class 'pandas.core.frame.DataFrame'>\n",
      "8000\n",
      "<class 'pandas.core.frame.DataFrame'>\n",
      "8000\n",
      "<class 'pandas.core.frame.DataFrame'>\n",
      "8000\n",
      "<class 'pandas.core.frame.DataFrame'>\n",
      "8000\n",
      "<class 'pandas.core.frame.DataFrame'>\n",
      "8000\n",
      "<class 'pandas.core.frame.DataFrame'>\n",
      "8000\n",
      "<class 'pandas.core.frame.DataFrame'>\n",
      "8000\n",
      "<class 'pandas.core.frame.DataFrame'>\n",
      "8000\n",
      "<class 'pandas.core.frame.DataFrame'>\n",
      "8000\n",
      "<class 'pandas.core.frame.DataFrame'>\n",
      "8000\n",
      "<class 'pandas.core.frame.DataFrame'>\n",
      "8000\n",
      "<class 'pandas.core.frame.DataFrame'>\n",
      "8000\n",
      "<class 'pandas.core.frame.DataFrame'>\n",
      "8000\n",
      "<class 'pandas.core.frame.DataFrame'>\n",
      "8000\n",
      "<class 'pandas.core.frame.DataFrame'>\n",
      "8000\n",
      "<class 'pandas.core.frame.DataFrame'>\n",
      "8000\n",
      "<class 'pandas.core.frame.DataFrame'>\n",
      "8000\n",
      "<class 'pandas.core.frame.DataFrame'>\n",
      "8000\n",
      "<class 'pandas.core.frame.DataFrame'>\n",
      "8000\n",
      "<class 'pandas.core.frame.DataFrame'>\n",
      "8000\n",
      "<class 'pandas.core.frame.DataFrame'>\n",
      "8000\n",
      "<class 'pandas.core.frame.DataFrame'>\n",
      "8000\n",
      "<class 'pandas.core.frame.DataFrame'>\n",
      "8000\n",
      "<class 'pandas.core.frame.DataFrame'>\n",
      "8000\n",
      "<class 'pandas.core.frame.DataFrame'>\n",
      "8000\n",
      "<class 'pandas.core.frame.DataFrame'>\n",
      "8000\n",
      "<class 'pandas.core.frame.DataFrame'>\n",
      "8000\n",
      "<class 'pandas.core.frame.DataFrame'>\n",
      "8000\n",
      "<class 'pandas.core.frame.DataFrame'>\n",
      "8000\n",
      "<class 'pandas.core.frame.DataFrame'>\n",
      "8000\n",
      "<class 'pandas.core.frame.DataFrame'>\n",
      "8000\n",
      "<class 'pandas.core.frame.DataFrame'>\n",
      "8000\n",
      "<class 'pandas.core.frame.DataFrame'>\n",
      "8000\n",
      "<class 'pandas.core.frame.DataFrame'>\n",
      "8000\n",
      "<class 'pandas.core.frame.DataFrame'>\n",
      "8000\n",
      "<class 'pandas.core.frame.DataFrame'>\n",
      "8000\n",
      "<class 'pandas.core.frame.DataFrame'>\n",
      "8000\n",
      "<class 'pandas.core.frame.DataFrame'>\n",
      "8000\n",
      "<class 'pandas.core.frame.DataFrame'>\n",
      "8000\n",
      "<class 'pandas.core.frame.DataFrame'>\n",
      "8000\n",
      "<class 'pandas.core.frame.DataFrame'>\n",
      "8000\n",
      "<class 'pandas.core.frame.DataFrame'>\n",
      "8000\n",
      "<class 'pandas.core.frame.DataFrame'>\n",
      "8000\n",
      "<class 'pandas.core.frame.DataFrame'>\n",
      "8000\n",
      "<class 'pandas.core.frame.DataFrame'>\n",
      "8000\n",
      "<class 'pandas.core.frame.DataFrame'>\n",
      "8000\n",
      "<class 'pandas.core.frame.DataFrame'>\n",
      "8000\n",
      "<class 'pandas.core.frame.DataFrame'>\n",
      "8000\n",
      "<class 'pandas.core.frame.DataFrame'>\n",
      "8000\n",
      "<class 'pandas.core.frame.DataFrame'>\n",
      "8000\n",
      "<class 'pandas.core.frame.DataFrame'>\n",
      "8000\n",
      "<class 'pandas.core.frame.DataFrame'>\n",
      "8000\n",
      "<class 'pandas.core.frame.DataFrame'>\n",
      "8000\n",
      "<class 'pandas.core.frame.DataFrame'>\n",
      "8000\n",
      "<class 'pandas.core.frame.DataFrame'>\n",
      "8000\n",
      "<class 'pandas.core.frame.DataFrame'>\n",
      "8000\n",
      "<class 'pandas.core.frame.DataFrame'>\n",
      "8000\n",
      "<class 'pandas.core.frame.DataFrame'>\n",
      "8000\n",
      "<class 'pandas.core.frame.DataFrame'>\n",
      "8000\n",
      "<class 'pandas.core.frame.DataFrame'>\n",
      "8000\n",
      "<class 'pandas.core.frame.DataFrame'>\n",
      "8000\n",
      "<class 'pandas.core.frame.DataFrame'>\n",
      "8000\n",
      "<class 'pandas.core.frame.DataFrame'>\n",
      "8000\n",
      "<class 'pandas.core.frame.DataFrame'>\n",
      "8000\n",
      "<class 'pandas.core.frame.DataFrame'>\n",
      "8000\n",
      "<class 'pandas.core.frame.DataFrame'>\n",
      "8000\n",
      "<class 'pandas.core.frame.DataFrame'>\n",
      "8000\n",
      "<class 'pandas.core.frame.DataFrame'>\n",
      "8000\n",
      "<class 'pandas.core.frame.DataFrame'>\n",
      "8000\n",
      "<class 'pandas.core.frame.DataFrame'>\n",
      "8000\n",
      "<class 'pandas.core.frame.DataFrame'>\n",
      "8000\n",
      "<class 'pandas.core.frame.DataFrame'>\n",
      "8000\n",
      "<class 'pandas.core.frame.DataFrame'>\n",
      "8000\n",
      "<class 'pandas.core.frame.DataFrame'>\n",
      "8000\n",
      "<class 'pandas.core.frame.DataFrame'>\n",
      "8000\n",
      "<class 'pandas.core.frame.DataFrame'>\n",
      "8000\n",
      "<class 'pandas.core.frame.DataFrame'>\n",
      "8000\n",
      "<class 'pandas.core.frame.DataFrame'>\n",
      "8000\n",
      "<class 'pandas.core.frame.DataFrame'>\n",
      "8000\n",
      "<class 'pandas.core.frame.DataFrame'>\n",
      "8000\n",
      "<class 'pandas.core.frame.DataFrame'>\n",
      "8000\n",
      "<class 'pandas.core.frame.DataFrame'>\n",
      "8000\n",
      "<class 'pandas.core.frame.DataFrame'>\n",
      "8000\n"
     ]
    }
   ],
   "source": [
    "#设置chunksize参数，来控制每次迭代数据的大小\n",
    "chunker = pd.read_csv(\"./train.csv\",chunksize=8000)\n",
    "for item in chunker:\n",
    "    print(type(item))\n",
    "    #<class 'pandas.core.frame.DataFrame'>\n",
    "    print(len(item))\n",
    "    #5"
   ]
  },
  {
   "cell_type": "markdown",
   "metadata": {},
   "source": [
    "# 特征工程"
   ]
  },
  {
   "cell_type": "markdown",
   "metadata": {},
   "source": [
    "特征工程与EDA之间有部分重合，是因为特征工程会用到EDA的结果。"
   ]
  },
  {
   "cell_type": "markdown",
   "metadata": {},
   "source": [
    "## 数据预处理"
   ]
  },
  {
   "cell_type": "markdown",
   "metadata": {},
   "source": [
    "### 去除唯一值"
   ]
  },
  {
   "cell_type": "code",
   "execution_count": 5,
   "metadata": {
    "ExecuteTime": {
     "end_time": "2020-12-13T05:55:13.304670Z",
     "start_time": "2020-12-13T05:55:11.367189Z"
    }
   },
   "outputs": [],
   "source": [
    "# 删除唯一值的特征\n",
    "uniq_value_feas = [col for col in train.columns if train[col].nunique() <= 1]\n",
    "data_train = train.drop(columns = uniq_value_feas)"
   ]
  },
  {
   "cell_type": "markdown",
   "metadata": {},
   "source": [
    "### 填充缺失值"
   ]
  },
  {
   "cell_type": "code",
   "execution_count": 6,
   "metadata": {
    "ExecuteTime": {
     "end_time": "2020-12-13T05:55:16.178348Z",
     "start_time": "2020-12-13T05:55:16.162343Z"
    }
   },
   "outputs": [],
   "source": [
    "# 获取缺失值\n",
    "def get_missing_feas(data):\n",
    "    missing = data.isnull().sum()\n",
    "    missing = missing[missing > 0]\n",
    "    return missing.to_dict()"
   ]
  },
  {
   "cell_type": "code",
   "execution_count": 7,
   "metadata": {
    "ExecuteTime": {
     "end_time": "2020-12-13T05:55:18.880180Z",
     "start_time": "2020-12-13T05:55:18.217656Z"
    }
   },
   "outputs": [
    {
     "data": {
      "text/plain": [
       "{'employmentTitle': 1,\n",
       " 'employmentLength': 46799,\n",
       " 'postCode': 1,\n",
       " 'dti': 239,\n",
       " 'pubRecBankruptcies': 405,\n",
       " 'revolUtil': 531,\n",
       " 'title': 1,\n",
       " 'n0': 40270,\n",
       " 'n1': 40270,\n",
       " 'n2': 40270,\n",
       " 'n2.1': 40270,\n",
       " 'n4': 33239,\n",
       " 'n5': 40270,\n",
       " 'n6': 40270,\n",
       " 'n7': 40270,\n",
       " 'n8': 40271,\n",
       " 'n9': 40270,\n",
       " 'n10': 33239,\n",
       " 'n11': 69752,\n",
       " 'n12': 40270,\n",
       " 'n13': 40270,\n",
       " 'n14': 40270}"
      ]
     },
     "execution_count": 7,
     "metadata": {},
     "output_type": "execute_result"
    }
   ],
   "source": [
    "train_missing  = get_missing_feas(data_train)\n",
    "train_missing"
   ]
  },
  {
   "cell_type": "code",
   "execution_count": 8,
   "metadata": {
    "ExecuteTime": {
     "end_time": "2020-12-13T05:55:19.907327Z",
     "start_time": "2020-12-13T05:55:19.694119Z"
    }
   },
   "outputs": [
    {
     "data": {
      "text/plain": [
       "{'employmentLength': 11742,\n",
       " 'dti': 61,\n",
       " 'pubRecBankruptcies': 116,\n",
       " 'revolUtil': 127,\n",
       " 'n0': 10111,\n",
       " 'n1': 10111,\n",
       " 'n2': 10111,\n",
       " 'n2.1': 10111,\n",
       " 'n2.2': 10111,\n",
       " 'n2.3': 10111,\n",
       " 'n4': 8394,\n",
       " 'n5': 10111,\n",
       " 'n6': 10111,\n",
       " 'n7': 10111,\n",
       " 'n8': 10111,\n",
       " 'n9': 10111,\n",
       " 'n10': 8394,\n",
       " 'n11': 17575,\n",
       " 'n12': 10111,\n",
       " 'n13': 10111,\n",
       " 'n14': 10111}"
      ]
     },
     "execution_count": 8,
     "metadata": {},
     "output_type": "execute_result"
    }
   ],
   "source": [
    "test_missing = get_missing_feas(testA)\n",
    "test_missing"
   ]
  },
  {
   "cell_type": "code",
   "execution_count": 9,
   "metadata": {
    "ExecuteTime": {
     "end_time": "2020-12-13T05:55:20.839913Z",
     "start_time": "2020-12-13T05:55:20.823912Z"
    }
   },
   "outputs": [],
   "source": [
    "def found_different_col(data1,data2):\n",
    "    data1_col = data1.columns\n",
    "    data2_col = data2.columns\n",
    "    dif_col_more1 = list([col for col in data1_col if col not in data2_col])\n",
    "    dif_col_more2 = [col for col in data2_col if col not in data1_col]\n",
    "    return print('数据1比数据2多的列：',dif_col_more1),print('数据2比数据1多的列：',dif_col_more2)"
   ]
  },
  {
   "cell_type": "code",
   "execution_count": 10,
   "metadata": {
    "ExecuteTime": {
     "end_time": "2020-12-13T05:55:22.553178Z",
     "start_time": "2020-12-13T05:55:22.531710Z"
    }
   },
   "outputs": [
    {
     "name": "stdout",
     "output_type": "stream",
     "text": [
      "数据1比数据2多的列： ['isDefault']\n",
      "数据2比数据1多的列： ['n2.2', 'n2.3']\n"
     ]
    }
   ],
   "source": [
    "dif_col = found_different_col(train,testA)"
   ]
  },
  {
   "cell_type": "code",
   "execution_count": 12,
   "metadata": {
    "ExecuteTime": {
     "end_time": "2020-12-13T05:56:12.547088Z",
     "start_time": "2020-12-13T05:56:11.975670Z"
    }
   },
   "outputs": [],
   "source": [
    "# employmentTitle, postCode, title只有一条空数据，相对于80w来说，可以忽略不计。我们直接删除这三行数据即可。\n",
    "data_train = data_train.drop(index=(data_train.loc[data_train['employmentTitle'].isnull()].index))"
   ]
  },
  {
   "cell_type": "code",
   "execution_count": 13,
   "metadata": {
    "ExecuteTime": {
     "end_time": "2020-12-13T05:56:18.336805Z",
     "start_time": "2020-12-13T05:56:17.418688Z"
    }
   },
   "outputs": [],
   "source": [
    "mode_feas = [\"employmentTitle\", \"postCode\", \"title\"]\n",
    "data_train = data_train.dropna(subset=mode_feas) # 删除特定列中包含缺失值的行(axis=0)或列(axis=1)\n",
    "data_train = data_train.reset_index(drop=True)"
   ]
  },
  {
   "cell_type": "markdown",
   "metadata": {},
   "source": [
    "## 异常值处理"
   ]
  },
  {
   "cell_type": "code",
   "execution_count": null,
   "metadata": {},
   "outputs": [],
   "source": []
  },
  {
   "cell_type": "markdown",
   "metadata": {},
   "source": [
    "## 数据分箱"
   ]
  },
  {
   "cell_type": "markdown",
   "metadata": {},
   "source": [
    "## 特征交互"
   ]
  },
  {
   "cell_type": "markdown",
   "metadata": {},
   "source": [
    "## 特征编码"
   ]
  },
  {
   "cell_type": "markdown",
   "metadata": {},
   "source": [
    "## 特征筛选"
   ]
  },
  {
   "cell_type": "code",
   "execution_count": null,
   "metadata": {},
   "outputs": [],
   "source": []
  },
  {
   "cell_type": "markdown",
   "metadata": {},
   "source": [
    "# 训练模型"
   ]
  },
  {
   "cell_type": "code",
   "execution_count": null,
   "metadata": {},
   "outputs": [],
   "source": []
  }
 ],
 "metadata": {
  "kernelspec": {
   "display_name": "Python 3",
   "language": "python",
   "name": "python3"
  },
  "language_info": {
   "codemirror_mode": {
    "name": "ipython",
    "version": 3
   },
   "file_extension": ".py",
   "mimetype": "text/x-python",
   "name": "python",
   "nbconvert_exporter": "python",
   "pygments_lexer": "ipython3",
   "version": "3.7.6"
  },
  "latex_envs": {
   "LaTeX_envs_menu_present": true,
   "autoclose": false,
   "autocomplete": true,
   "bibliofile": "biblio.bib",
   "cite_by": "apalike",
   "current_citInitial": 1,
   "eqLabelWithNumbers": true,
   "eqNumInitial": 1,
   "hotkeys": {
    "equation": "Ctrl-E",
    "itemize": "Ctrl-I"
   },
   "labels_anchors": false,
   "latex_user_defs": false,
   "report_style_numbering": false,
   "user_envs_cfg": false
  },
  "toc": {
   "base_numbering": 1,
   "nav_menu": {},
   "number_sections": true,
   "sideBar": true,
   "skip_h1_title": false,
   "title_cell": "Table of Contents",
   "title_sidebar": "Contents",
   "toc_cell": false,
   "toc_position": {
    "height": "calc(100% - 180px)",
    "left": "10px",
    "top": "150px",
    "width": "289.366px"
   },
   "toc_section_display": true,
   "toc_window_display": true
  }
 },
 "nbformat": 4,
 "nbformat_minor": 4
}
